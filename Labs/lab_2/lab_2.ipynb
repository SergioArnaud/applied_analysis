{
 "cells": [
  {
   "cell_type": "code",
   "execution_count": 2,
   "metadata": {},
   "outputs": [],
   "source": [
    "addpath (\"../files\")\n",
    "setenv('GNUTERM','qt')\n",
    "format long"
   ]
  },
  {
   "cell_type": "code",
   "execution_count": 2,
   "metadata": {},
   "outputs": [
    {
     "name": "stdout",
     "output_type": "stream",
     "text": [
      "Created file '/Users/sergio_arnaud/Documents/ITAM/8vo/applied_analysis/Labs/files/hessian.m'.\n"
     ]
    }
   ],
   "source": [
    "%%file ../files/hessian.m\n",
    "\n",
    "function [H] = hessian(fname,x)\n",
    "    h = 1e-05;\n",
    "    n = length(x);\n",
    "    H = zeros(n);\n",
    "    fx = feval(fname,x);\n",
    "\n",
    "    for i = 1:n\n",
    "        x1 = x;\n",
    "        x1(i) = x1(i) + h;\n",
    "        f1 = feval(fname, x1);\n",
    "        for j = i:n\n",
    "            x2 = x;\n",
    "            x2(j) = x2(j) + h;\n",
    "            f2 = feval(fname, x2);\n",
    "\n",
    "            x3 = x1;\n",
    "            x3(j) = x3(j) + h;\n",
    "            f3 = feval(fname, x3);\n",
    "            \n",
    "            H(i,j) = (f3 - f2 - f1 + fx)/(h^2);\n",
    "            H(j,i) = H(i,j);\n",
    "        end\n",
    "    end\n",
    "end"
   ]
  },
  {
   "cell_type": "code",
   "execution_count": null,
   "metadata": {
    "scrolled": true
   },
   "outputs": [],
   "source": [
    "hessian('rosenbrock',[1,1]')"
   ]
  },
  {
   "cell_type": "code",
   "execution_count": 3,
   "metadata": {},
   "outputs": [
    {
     "name": "stdout",
     "output_type": "stream",
     "text": [
      "Created file '/Users/sergio_arnaud/Documents/ITAM/8vo/Applied_analysis/Labs/files/MetodoBL.m'.\n"
     ]
    }
   ],
   "source": [
    "%%file ../files/MetodoBL.m\n",
    "\n",
    "function [W,x,iter] = MetodoBL(fname, x, method='newton', tol=1.e-04, maxiter = 50, maxjter = 30, c1 = 0.1)\n",
    "\n",
    "%{\n",
    "    Método de búsqueda de línea con la primer condición de Wolfe\n",
    "    usando máximo descenso.\n",
    "    usando los métodos de descenso:\n",
    "        1. Por coordenadas\n",
    "        2. Máximo descenso\n",
    "    Input:\n",
    "        \n",
    "        fname.- cadena de caracteres con el nombre de la función a minimizar.\n",
    "        x    .- vector n-dimensional.\n",
    "    \n",
    "    Output:\n",
    "        x    .- vector n-dimensional con la aproximación al mínimo local.\n",
    "        iter .- contador con el número final de iteraciones externas.\n",
    "%}\n",
    "    \n",
    "    iter = 0;        \n",
    "    p = 1; s = -1;\n",
    "\n",
    "    fx = feval(fname,x);\n",
    "    g  = gradiente(fname,x);\n",
    "    ng = norm(g);\n",
    "    W  = [x]; \n",
    "\n",
    "    while ( ng > tol && iter < maxiter &&  norm(p)> 1.e-04)\n",
    "\n",
    "        if (strcmp(method,'max'))\n",
    "            p = -g;\n",
    "        end\n",
    "\n",
    "        if (strcmp(method,'newton'))\n",
    "            H = hessian(fname,x);\n",
    "            p = -H\\g; \n",
    "        end\n",
    "\n",
    "        %-----------------------------------------\n",
    "        % Búsqueda de línea\n",
    "        alfa  = 1;              % paso completo\n",
    "        xt = x + alfa*p;        % primer punto de prueba\n",
    "        f  = feval(fname,x);  % valor de la función\n",
    "        f1 = feval(fname, xt);% valor de la función en el punto de prueba\n",
    "        s  = p'*g;            % derivada direccional\n",
    "        jter = 0;             % iteraciones internas\n",
    "\n",
    "        if (abs(s) < 1.e-06)\n",
    "            disp('No existe suficiente descenso  ')\n",
    "            disp(sprintf('%2.0f  %2.10f',iter, s   ))\n",
    "            iter = maxiter; \n",
    "        end\n",
    "\n",
    "        while( (f1>f+alfa*c1*s) && jter < maxjter)  % búsqueda de línea\n",
    "           alfa = alfa/2;\n",
    "           xt = x + alfa*p;\n",
    "           f1 = feval(fname, xt); %valor de la función en el punto de prueba\n",
    "           jter = jter +1;\n",
    "        end   \n",
    "        % Fin de búsqueda de línea\n",
    "        %----------------------------------------------------------------------\n",
    "\n",
    "        W = [W x];\n",
    "        x = x + alfa*p;  \n",
    "        fx = feval(fname,x); \n",
    "        g = gradiente(fname,x);\n",
    "        iter = iter + 1;\n",
    "    end      \n",
    "\n",
    "end"
   ]
  },
  {
   "cell_type": "code",
   "execution_count": 4,
   "metadata": {},
   "outputs": [],
   "source": [
    "[W,x,iter] = MetodoBL('rosenbrock',[0,0]');"
   ]
  },
  {
   "cell_type": "code",
   "execution_count": 4,
   "metadata": {},
   "outputs": [],
   "source": [
    "function [fx] = rosenbrock1(x,y)\n",
    "%{\n",
    "    Función de Rosenbrock: f: R^2 --> R cuyo mínimo local es muy \n",
    "    difícil de alcanzar por medio de los métodos de optimización.\n",
    "    \n",
    "    Input:\n",
    "         x.- vector de longitud 2\n",
    "    Output:\n",
    "        fx.- número real con el valor de la función.\n",
    "%}\n",
    "    fx = 100.*(y - x.^2).^2 + (1 - x).^2;\n",
    "end"
   ]
  },
  {
   "cell_type": "code",
   "execution_count": 5,
   "metadata": {},
   "outputs": [
    {
     "name": "stdout",
     "output_type": "stream",
     "text": [
      "error: 'W' undefined near line 1 column 10\n"
     ]
    }
   ],
   "source": [
    "%plot gnuplot\n",
    "\n",
    "x = linspace(-2,2,25);\n",
    "y = linspace(-2,2,25);\n",
    "[X,Y] = meshgrid(x,y);\n",
    "\n",
    "hold on;\n",
    "scatter3(W(1,:),W(2,:),rosenbrock1(W(1,:),W(2,:)),200,'fill')\n",
    "surf(X,Y,rosenbrock1(X,Y),'FaceAlpha',0.4)\n",
    "hold off;"
   ]
  }
 ],
 "metadata": {
  "jupytext": {},
  "kernelspec": {
   "display_name": "Octave",
   "language": "octave",
   "name": "octave"
  },
  "language_info": {
   "file_extension": ".m",
   "help_links": [
    {
     "text": "GNU Octave",
     "url": "https://www.gnu.org/software/octave/support.html"
    },
    {
     "text": "Octave Kernel",
     "url": "https://github.com/Calysto/octave_kernel"
    },
    {
     "text": "MetaKernel Magics",
     "url": "https://github.com/calysto/metakernel/blob/master/metakernel/magics/README.md"
    }
   ],
   "mimetype": "text/x-octave",
   "name": "octave",
   "version": "4.4.1"
  }
 },
 "nbformat": 4,
 "nbformat_minor": 2
}
