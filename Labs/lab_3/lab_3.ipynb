{
 "cells": [
  {
   "cell_type": "code",
   "execution_count": 2,
   "metadata": {},
   "outputs": [],
   "source": [
    "addpath (\"../files\")\n",
    "setenv('GNUTERM','qt')\n",
    "format long"
   ]
  },
  {
   "cell_type": "code",
   "execution_count": 38,
   "metadata": {
    "slideshow": {
     "slide_type": "-"
    }
   },
   "outputs": [
    {
     "name": "stdout",
     "output_type": "stream",
     "text": [
      "Created file '/Users/sergio_arnaud/Documents/ITAM/8vo/applied_analysis/Labs/files/metodoblinterpol2.m'.\n"
     ]
    }
   ],
   "source": [
    "%%file ../files/metodoblinterpol2.m\n",
    "\n",
    "function [W,x,iter] = metodoblinterpol2(fname, x, method='newton', line_search='quadratic',\n",
    "                                        plot_iterations = true, tol=1.e-04, maxiter = 50, \n",
    "                                        maxjter = 30, c1 = 0.1)\n",
    "%{\n",
    "    Método de búsqueda de línea con la primer condición de Wolfe\n",
    "    usando máximo descenso.\n",
    "    usando los métodos de descenso:\n",
    "        1. Máximo descenso\n",
    "        2. Método de Newton\n",
    "    Input:\n",
    "        \n",
    "        fname.- cadena de caracteres con el nombre de la función a minimizar.\n",
    "        x    .- vector n-dimensional.\n",
    "    \n",
    "    Output:\n",
    "        x    .- vector n-dimensional con la aproximación al mínimo local.\n",
    "        iter .- contador con el número final de iteraciones externas.\n",
    "%}\n",
    "    \n",
    "    iter = 0;        \n",
    "    p = 1; s = -1;\n",
    "\n",
    "    fx = feval(fname,x);\n",
    "    g  = gradiente(fname,x);\n",
    "    ng = norm(g);\n",
    "    W  = [x]; \n",
    "\n",
    "    while ( ng > tol && iter < maxiter &&  norm(p)> 1.e-04)\n",
    "        if (strncmp(method,'max',3))\n",
    "            p = -g;\n",
    "        end\n",
    "\n",
    "        if (strncmp(method,'newton',6))\n",
    "            H = hessian(fname,x);\n",
    "            p = -H\\g; \n",
    "        end\n",
    "\n",
    "        %-----------------------------------------\n",
    "        %            Búsqueda de línea\n",
    "        \n",
    "        alfa  = 1;              \n",
    "        xt = x + alfa*p;        \n",
    "        f  = feval(fname,x);  \n",
    "        f1 = feval(fname, xt);\n",
    "        s  = p'*g;            \n",
    "        jter = 0;             \n",
    "\n",
    "        \n",
    "        if (abs(s) < 1.e-06)\n",
    "            %disp('No existe suficiente descenso  ')\n",
    "            %disp(sprintf('%2.0f  %2.10f',iter, s   ))\n",
    "            iter = maxiter; \n",
    "        end\n",
    "        \n",
    "\n",
    "        while( (f1>f+alfa*c1*s) && jter < maxjter)  % búsqueda de línea\n",
    "            if (strncmp(line_search,'linear',6))\n",
    "                alfa = alfa/2;\n",
    "                xt = x + alfa*p;\n",
    "                f1 = feval(fname, xt);\n",
    "                jter = jter +1;\n",
    "            end\n",
    "            \n",
    "            if (strncmp(line_search,'quadratic',9))\n",
    "                d2 = f1 - f - s;\n",
    "                alfa = -( s)/(2*d2);       \n",
    "                f1 = feval(fname, x + alfa*p);\n",
    "                jter = jter +1;    \n",
    "            end\n",
    "        end   \n",
    "        \n",
    "        %          Fin de búsqueda de línea\n",
    "        %------------------------------------------\n",
    "        \n",
    "        \n",
    "        %------------------------------------------\n",
    "        %                Graficación\n",
    "\n",
    "        if (plot_iterations == true)\n",
    "        \n",
    "            t = linspace(0,1,50)';\n",
    "            ft = zeros(50,1); rt = zeros(50,1);\n",
    "            for k = 1:50        \n",
    "                ft(k) = feval(fname, x+t(k)*p);  % función \n",
    "                rt(k) = fx + t(k)*(c1*p'*g);\n",
    "            end\n",
    "\n",
    "            fx = feval(fname,x+alfa*p);\n",
    "\n",
    "            plot(t,ft,'--b',t,rt,'--m',alfa,fx,'dr', 'LineWidth',3)\n",
    "            title('Gráfica de búsqueda de línea','Fontsize',16)\n",
    "            xlabel('EJE  T','Fontsize',16)\n",
    "            ylabel(' f(x + tp)','Fontsize',16  )\n",
    "            legend('f(x)','recta','punto')\n",
    "            pause\n",
    "        end\n",
    "\n",
    "        %              Fin de graficación\n",
    "        %-----------------------------------------\n",
    "          \n",
    "        W = [W x];\n",
    "        x = x + alfa*p;  \n",
    "        fx = feval(fname,x); \n",
    "        g = gradiente(fname,x);\n",
    "        iter = iter + 1;\n",
    "        \n",
    "    end      \n",
    "end\n"
   ]
  },
  {
   "cell_type": "code",
   "execution_count": null,
   "metadata": {
    "slideshow": {
     "slide_type": "-"
    }
   },
   "outputs": [],
   "source": [
    "%plot gnuplot\n",
    "[W,x,iter] = metodoblinterpol2('rosenbrock',[2.5,2.5]','newton','quadratic',false);"
   ]
  },
  {
   "cell_type": "code",
   "execution_count": null,
   "metadata": {},
   "outputs": [],
   "source": [
    "%plot gnuplot\n",
    "metodoblinterpol2('fcuad',[2.5,2.5]','newton','linear',true);"
   ]
  },
  {
   "cell_type": "markdown",
   "metadata": {},
   "source": [
    "## Testing with Shubert function"
   ]
  },
  {
   "cell_type": "markdown",
   "metadata": {},
   "source": [
    "#### Shubert function\n",
    "\n",
    "$ f : \\mathbb{R}^n \\to \\mathbb{R}$\n",
    "\n",
    "$f(\\mathbf{x})=\\prod_{i=1}^{n}{\\left(\\sum_{j=1}^5{ cos((j+1)x_i+j)}\\right)}$"
   ]
  },
  {
   "cell_type": "code",
   "execution_count": 5,
   "metadata": {},
   "outputs": [],
   "source": [
    "function [ans] = shubert(X)\n",
    "    if (length(size(X)) > 2)\n",
    "        x = X(:,:,1);\n",
    "        y = X(:,:,2);\n",
    "    else\n",
    "        x = X(1);\n",
    "        y = X(2);\n",
    "    end\n",
    "\n",
    "    n = length(x);\n",
    "    sum1 = zeros(1,n);\n",
    "    sum2 = zeros(1,n);\n",
    "    \n",
    "    for i = 1:5\n",
    "        sum1 = sum1 + i .* cos((i+1).*x+i);\n",
    "        sum2 = sum2 + i .* cos((i+1).*y+i);\n",
    "    end\n",
    "\n",
    "    ans = sum1 .* sum2;\n",
    "end"
   ]
  },
  {
   "cell_type": "markdown",
   "metadata": {},
   "source": [
    "#### Surface plot of Shubert function"
   ]
  },
  {
   "cell_type": "code",
   "execution_count": 23,
   "metadata": {},
   "outputs": [
    {
     "name": "stdout",
     "output_type": "stream",
     "text": [
      "warning: legend: ignoring extra labels\n",
      "warning: called from\n",
      "    legend at line 468 column 13\n"
     ]
    }
   ],
   "source": [
    "x = linspace(-5,5,120);\n",
    "y = linspace(-5,5,120);\n",
    "[X,Y] = meshgrid(x,y);\n",
    "surf(X,Y,shubert(cat(3,X,Y)),'FaceAlpha',0.4)\n",
    "title('Sergio Arnaud Gómez','Fontsize',16)\n",
    "legend('Schubert function','recta','punto')\n"
   ]
  },
  {
   "cell_type": "markdown",
   "metadata": {},
   "source": [
    "#### Searching for minima"
   ]
  },
  {
   "cell_type": "code",
   "execution_count": 48,
   "metadata": {},
   "outputs": [
    {
     "name": "stdout",
     "output_type": "stream",
     "text": [
      "Method: newton \n",
      "Interpolation: linear    \n",
      "Initial value: (0,0)\n",
      "Value of function 0.00000 \n",
      "\n",
      "Method: newton \n",
      "Interpolation: linear    \n",
      "Initial value: (1,2)\n",
      "Value of function 0.00000 \n",
      "\n",
      "Method: newton \n",
      "Interpolation: linear    \n",
      "Initial value: (3,1)\n",
      "Value of function 0.00000 \n",
      "\n",
      "Method: newton \n",
      "Interpolation: linear    \n",
      "Initial value: (1,3)\n",
      "Value of function 0.00000 \n",
      "\n",
      "Method: newton \n",
      "Interpolation: quadratic \n",
      "Initial value: (0,0)\n",
      "Value of function 0.00000 \n",
      "\n",
      "Method: newton \n",
      "Interpolation: quadratic \n",
      "Initial value: (1,2)\n",
      "Value of function 0.00000 \n",
      "\n",
      "Method: newton \n",
      "Interpolation: quadratic \n",
      "Initial value: (3,1)\n",
      "Value of function 0.00000 \n",
      "\n",
      "Method: newton \n",
      "Interpolation: quadratic \n",
      "Initial value: (1,3)\n",
      "Value of function 0.00000 \n",
      "\n",
      "Method: max    \n",
      "Interpolation: linear    \n",
      "Initial value: (0,0)\n",
      "Value of function 0.00000 \n",
      "\n",
      "Method: max    \n",
      "Interpolation: linear    \n",
      "Initial value: (1,2)\n",
      "Value of function -46.51131 \n",
      "\n",
      "Method: max    \n",
      "Interpolation: linear    \n",
      "Initial value: (3,1)\n",
      "Value of function -186.73091 \n",
      "\n",
      "Method: max    \n",
      "Interpolation: linear    \n",
      "Initial value: (1,3)\n",
      "Value of function -186.73091 \n",
      "\n",
      "Method: max    \n",
      "Interpolation: quadratic \n",
      "Initial value: (0,0)\n",
      "Value of function 4.11114 \n",
      "\n",
      "Method: max    \n",
      "Interpolation: quadratic \n",
      "Initial value: (1,2)\n",
      "Value of function -11.75507 \n",
      "\n",
      "Method: max    \n",
      "Interpolation: quadratic \n",
      "Initial value: (3,1)\n",
      "Value of function 18.13910 \n",
      "\n",
      "Method: max    \n",
      "Interpolation: quadratic \n",
      "Initial value: (1,3)\n",
      "Value of function 18.13910 \n",
      "\n"
     ]
    }
   ],
   "source": [
    "descent_methods = [\"newton\";\"max\"];\n",
    "interpolations = [\"linear\";\"quadratic\"];\n",
    "initial_values = cat(3,[0,0],[1,2],[3,1],[1,3]);\n",
    "\n",
    "for i = 1:2\n",
    "    for j = 1:2\n",
    "        for k = 1:4\n",
    "            method = descent_methods(i,:);\n",
    "            value = initial_values(:,:,k);\n",
    "            interpolation = interpolations(j,:);\n",
    "            fprintf('Method: %s \\nInterpolation: %s \\nInitial value: (%d,%d)\\n',method, interpolation, value)\n",
    "            \n",
    "            [W,x,iter] = metodoblinterpol2('shubert',value',method,interpolation,false);\n",
    "            fprintf('Value of function %0.5f \\n\\n',shubert(x))\n",
    "            \n",
    "        end\n",
    "    end\n",
    "end"
   ]
  }
 ],
 "metadata": {
  "jupytext": {},
  "kernelspec": {
   "display_name": "Octave",
   "language": "octave",
   "name": "octave"
  },
  "language_info": {
   "file_extension": ".m",
   "help_links": [
    {
     "text": "GNU Octave",
     "url": "https://www.gnu.org/software/octave/support.html"
    },
    {
     "text": "Octave Kernel",
     "url": "https://github.com/Calysto/octave_kernel"
    },
    {
     "text": "MetaKernel Magics",
     "url": "https://github.com/calysto/metakernel/blob/master/metakernel/magics/README.md"
    }
   ],
   "mimetype": "text/x-octave",
   "name": "octave",
   "version": "4.4.1"
  }
 },
 "nbformat": 4,
 "nbformat_minor": 2
}
