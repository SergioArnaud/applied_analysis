{
 "cells": [
  {
   "cell_type": "code",
   "execution_count": 1,
   "metadata": {},
   "outputs": [],
   "source": [
    "addpath (\"files\")\n",
    "setenv('GNUTERM','qt')\n",
    "format long"
   ]
  },
  {
   "cell_type": "code",
   "execution_count": 142,
   "metadata": {},
   "outputs": [
    {
     "name": "stdout",
     "output_type": "stream",
     "text": [
      "Created file '/Users/sergio_arnaud/Documents/ITAM/8vo/applied_analysis/Proyectos/proyecto_1/files/gradiente.m'.\n"
     ]
    }
   ],
   "source": [
    "%%file files/gradiente.m\n",
    "function  [gfx] = gradiente(f, x, h = 1.e-08)\n",
    "\n",
    "%{\n",
    "    Aproximacion del gradiente por diferencias hacia adelante \n",
    "    de una funcion  de R^n a R.\n",
    "    \n",
    "    Input:\n",
    "        f   .- apuntador a la función\n",
    "        x   .- vector columna de dimension n.\n",
    "\n",
    "    Output:\n",
    "\n",
    "        gfx .- vector columna de dimension n, \n",
    "                 es la aproximacion al gradiente en x.\n",
    "%}\n",
    "    \n",
    "    n = length(x);\n",
    "    \n",
    "    fx = f(x);                            \n",
    "    xt = x;\n",
    "    \n",
    "    for i = 1:n\n",
    "        xt(i) = xt(i) + h;\n",
    "        fxh = f(xt);\n",
    "        gfx(i) = (fxh - fx)/h;\n",
    "        xt(i) = x(i);\n",
    "    end\n",
    "end"
   ]
  },
  {
   "cell_type": "code",
   "execution_count": 8,
   "metadata": {},
   "outputs": [
    {
     "name": "stdout",
     "output_type": "stream",
     "text": [
      "Created file '/Users/sergio_arnaud/Documents/ITAM/8vo/applied_analysis/Proyectos/proyecto_1/files/hessiana.m'.\n"
     ]
    }
   ],
   "source": [
    "%%file files/hessiana.m\n",
    "function [H] = hessiana(f, x, h = 1.e-05)\n",
    "\n",
    "    n = length(x);\n",
    "    H = zeros(n);\n",
    "    fx = f(x);\n",
    "\n",
    "    for i = 1:n\n",
    "        x1 = x;\n",
    "        x1(i) = x1(i) + h;\n",
    "        f1 = f(x1);\n",
    "        for j = i:n\n",
    "            x2 = x;\n",
    "            x2(j) = x2(j) + h;\n",
    "            f2 = f(x2);\n",
    "\n",
    "            x3 = x1;\n",
    "            x3(j) = x3(j) + h;\n",
    "            f3 = f(x3);\n",
    "            \n",
    "            H(i,j) = (f3 - f2 - f1 + fx)/(h^2);\n",
    "            H(j,i) = H(i,j);\n",
    "        end\n",
    "    end\n",
    "end"
   ]
  },
  {
   "cell_type": "code",
   "execution_count": 12,
   "metadata": {},
   "outputs": [
    {
     "name": "stdout",
     "output_type": "stream",
     "text": [
      "Created file '/Users/sergio_arnaud/Documents/ITAM/8vo/applied_analysis/Proyectos/proyecto_1/files/metodoblhibrido.m'.\n"
     ]
    }
   ],
   "source": [
    "%%file files/metodoblhibrido.m\n",
    "\n",
    "function [W,x,iter] = metodoblhibrido(f, x, method='newton', tol=1.e-08, \n",
    "                                      maxiter = 250, maxjter = 20, c1 = 1.e-04)\n",
    "%{\n",
    "    Método de búsqueda de línea con la primer condición de Wolfe\n",
    "    usando máximo descenso.\n",
    "    usando los métodos de descenso:\n",
    "        1. Máximo descenso\n",
    "        2. Método de Newton\n",
    "    Input:\n",
    "        \n",
    "        fname.- cadena de caracteres con el nombre de la función a minimizar.\n",
    "        x    .- vector n-dimensional.\n",
    "    \n",
    "    Output:\n",
    "        x    .- vector n-dimensional con la aproximación al mínimo local.\n",
    "        iter .- contador con el número final de iteraciones externas.\n",
    "%}\n",
    "    iter = 0;        \n",
    "    p = 1; \n",
    "\n",
    "    g  = gradiente(f,x)';\n",
    "    W  = [x]; \n",
    "\n",
    "    while ( norm(g) > tol && iter < maxiter)\n",
    "\n",
    "        if (strcmp(method,'max'))\n",
    "            p = -g;\n",
    "        end\n",
    "\n",
    "        if (strcmp(method,'newton'))\n",
    "            H = hessiana(f,x);\n",
    "            H = (H' + H)/2;\n",
    "            p = - chol(H) \\g; \n",
    "        end\n",
    "\n",
    "        %-----------------------------------------\n",
    "        %            Búsqueda híbrida\n",
    "        \n",
    "        alfa_back = 1; alfa_inter =1; \n",
    "        jter = 0;   \n",
    "        \n",
    "        f_x  = f(x);\n",
    "        xt   = x + p;        \n",
    "        f1   = f(xt);\n",
    "                  \n",
    "        s  = p'*g;  \n",
    "        %if (abs(s) < 1.e-12)\n",
    "        %    disp('No existe suficiente descenso  ')\n",
    "        %    disp(sprintf('%2.0f  %2.10f',iter, s))\n",
    "        %    break;\n",
    "        %end\n",
    "\n",
    "        while(true)  % búsqueda de línea\n",
    "                \n",
    "            %-----------------------------------------\n",
    "            %           Paso Backtracking\n",
    "            alfa_back = alfa_back/2;\n",
    "            f_back  = f(x + alfa_back*p);\n",
    "            wolfe_back = false;\n",
    "            \n",
    "            %-----------------------------------------\n",
    "            %           Paso Interpolación\n",
    "            d2 = f1 - f_x - s;\n",
    "            alfa_inter = -(s)/(2*d2); \n",
    "            f_inter =f(x + alfa_inter*p);\n",
    "            wolfe_inter = false;\n",
    "            \n",
    "            %-----------------------------------------\n",
    "            %    Paso backtracking cumple W1\n",
    "            if (f_back <= f_x + alfa_back*c1*s)\n",
    "                wolfe_back = true;\n",
    "            end\n",
    "            \n",
    "            %-----------------------------------------\n",
    "            %    Paso interpolación cumple W1\n",
    "            if (f_inter <= f_x+ alfa_inter*c1*s)\n",
    "                wolfe_inter = true;\n",
    "            end\n",
    "            \n",
    "            if (wolfe_back && wolfe_inter)\n",
    "                %a = 'las dos'\n",
    "                %jter\n",
    "                alfa = max(alfa_back,alfa_inter);\n",
    "            elseif(wolfe_inter)\n",
    "                %a = 'inter'\n",
    "                %jter\n",
    "                alfa = alfa_inter;\n",
    "            elseif(wolfe_back)\n",
    "                %a = 'backtrack'\n",
    "                %jter\n",
    "                alfa = alfa_back;\n",
    "            end\n",
    "            \n",
    "            if (jter > maxjter) \n",
    "                alfa = 1.e-2;\n",
    "                break;\n",
    "            end\n",
    "            \n",
    "            if (wolfe_back || wolfe_inter)\n",
    "                break;\n",
    "            end\n",
    "             \n",
    "            f1   = f(x + alfa_inter*p);\n",
    "            jter = jter +1;\n",
    "        end   \n",
    "        \n",
    "        if ((norm(alfa*p) < 1.e-3) || (jter > maxjter) )\n",
    "            alfa = 1.e-2;\n",
    "        end\n",
    "        \n",
    "        %          Fin de búsqueda híbrida\n",
    "        %------------------------------------------\n",
    "          \n",
    "        W = [W, x];\n",
    "        x = x + alfa*p;  \n",
    "        fx = f(x); \n",
    "        g = gradiente(f,x)';\n",
    "        iter = iter + 1;\n",
    "        \n",
    "    end      \n",
    "end"
   ]
  },
  {
   "cell_type": "code",
   "execution_count": 162,
   "metadata": {},
   "outputs": [
    {
     "name": "stdout",
     "output_type": "stream",
     "text": [
      "Created file '/Users/sergio_arnaud/Documents/ITAM/8vo/applied_analysis/Proyectos/proyecto_1/files/plot_surface.m'.\n"
     ]
    }
   ],
   "source": [
    "%%file files/plot_surface.m\n",
    "function [] = plot_surface(f, x_dom=[-1,1], y_dom=[-1,1], n=40)\n",
    "    x = linspace(x_dom(1),x_dom(2),n);\n",
    "    y = linspace(y_dom(1),y_dom(2),n);\n",
    "    [X,Y] = meshgrid(x,y);\n",
    "    surf(X,Y,f(cat(3,X,Y)),'FaceAlpha',0.4)\n",
    "end"
   ]
  },
  {
   "cell_type": "code",
   "execution_count": 145,
   "metadata": {},
   "outputs": [
    {
     "name": "stdout",
     "output_type": "stream",
     "text": [
      "Created file '/Users/sergio_arnaud/Documents/ITAM/8vo/applied_analysis/Proyectos/proyecto_1/files/shubert.m'.\n"
     ]
    }
   ],
   "source": [
    "%%file files/shubert.m\n",
    "function [ans] = shubert(X)\n",
    "    if (length(size(X)) > 2)\n",
    "        x = X(:,:,1);\n",
    "        y = X(:,:,2);\n",
    "    else\n",
    "        x = X(1);\n",
    "        y = X(2);\n",
    "    end\n",
    "\n",
    "    n = length(x);\n",
    "    sum1 = zeros(1,n);\n",
    "    sum2 = zeros(1,n);\n",
    "    \n",
    "    for i = 1:5\n",
    "        sum1 = sum1 + i .* cos((i+1).*x+i);\n",
    "        sum2 = sum2 + i .* cos((i+1).*y+i);\n",
    "    end\n",
    "\n",
    "    ans = sum1 .* sum2;\n",
    "end"
   ]
  },
  {
   "cell_type": "code",
   "execution_count": 156,
   "metadata": {},
   "outputs": [
    {
     "name": "stdout",
     "output_type": "stream",
     "text": [
      "Created file '/Users/sergio_arnaud/Documents/ITAM/8vo/applied_analysis/Proyectos/proyecto_1/files/rosenbrock.m'.\n"
     ]
    }
   ],
   "source": [
    "%%file files/rosenbrock.m\n",
    "function [fx] = rosenbrock(X)\n",
    "%{\n",
    "    Función de Rosenbrock: f: R^2 --> R cuyo mínimo local es muy \n",
    "    difícil de alcanzar por medio de los métodos de optimización.\n",
    "    \n",
    "    Input:\n",
    "         x.- vector de longitud 2\n",
    "    Output:\n",
    "        fx.- número real con el valor de la función.\n",
    "%}\n",
    "\n",
    "    if (length(size(X)) > 2)\n",
    "        x = X(:,:,1);\n",
    "        y = X(:,:,2);\n",
    "    else\n",
    "        x = X(1);\n",
    "        y = X(2);\n",
    "    end\n",
    "    \n",
    "    fx = 100.*(y - x.^2).^2 + (1 - x).^2;\n",
    "end"
   ]
  },
  {
   "cell_type": "markdown",
   "metadata": {},
   "source": [
    "$f(x) = 10f + \\sum_{i=1}^d [x_i^2 - 10 \\cos(2\\pi x_i)]$"
   ]
  },
  {
   "cell_type": "code",
   "execution_count": 157,
   "metadata": {},
   "outputs": [
    {
     "name": "stdout",
     "output_type": "stream",
     "text": [
      "Created file '/Users/sergio_arnaud/Documents/ITAM/8vo/applied_analysis/Proyectos/proyecto_1/files/rastrigin.m'.\n"
     ]
    }
   ],
   "source": [
    "%%file files/rastrigin.m\n",
    "function [fx] = rastrigin(X)\n",
    "\n",
    "if (length(size(X)) > 2)\n",
    "    x = X(:,:,1);\n",
    "    y = X(:,:,2);\n",
    "else\n",
    "    x = X(1);\n",
    "    y = X(2);\n",
    "end\n",
    "\n",
    "s = (x.^2 - 10.*cos(2.*pi.*x));\n",
    "s = s + (y.^2 - 10.*cos(2.*pi.*y));\n",
    "\n",
    "fx = 10*2 + s;\n",
    "\n",
    "end\n"
   ]
  },
  {
   "cell_type": "code",
   "execution_count": 148,
   "metadata": {},
   "outputs": [
    {
     "name": "stdout",
     "output_type": "stream",
     "text": [
      "Created file '/Users/sergio_arnaud/Documents/ITAM/8vo/applied_analysis/Proyectos/proyecto_1/files/griewank.m'.\n"
     ]
    }
   ],
   "source": [
    "%%file files/griewank.m\n",
    "\n",
    "function [y] = griewank(xx)\n",
    "\n",
    "d = length(xx);\n",
    "sum_ = 0;\n",
    "prod_ = 1;\n",
    "\n",
    "for ii = 1:d\n",
    "    xi = xx(ii);\n",
    "    sum_ = sum_ + xi^2/4000;\n",
    "    prod_ = prod_ * cos(xi/sqrt(ii));\n",
    "end\n",
    "\n",
    "y = sum_ - prod_ + 1;\n",
    "\n",
    "end\n"
   ]
  },
  {
   "cell_type": "markdown",
   "metadata": {},
   "source": [
    "https://www.sfu.ca/~ssurjano/ackley.html"
   ]
  },
  {
   "cell_type": "code",
   "execution_count": 149,
   "metadata": {},
   "outputs": [
    {
     "name": "stdout",
     "output_type": "stream",
     "text": [
      "Created file '/Users/sergio_arnaud/Documents/ITAM/8vo/applied_analysis/Proyectos/proyecto_1/files/ackley.m'.\n"
     ]
    }
   ],
   "source": [
    "%%file files/ackley.m\n",
    "function [y] = ackley(xx, a=20, b=.2, c=2*pi)\n",
    "\n",
    "d = length(xx);\n",
    "\n",
    "if (nargin < 4)\n",
    "    c = 2*pi;\n",
    "end\n",
    "if (nargin < 3)\n",
    "    b = 0.2;\n",
    "end\n",
    "if (nargin < 2)\n",
    "    a = 20;\n",
    "end\n",
    "\n",
    "sum1 = 0;\n",
    "sum2 = 0;\n",
    "for ii = 1:d\n",
    "    xi = xx(ii);\n",
    "    sum1 = sum1 + xi^2;\n",
    "    sum2 = sum2 + cos(c*xi);\n",
    "end\n",
    "\n",
    "term1 = -a * exp(-b*sqrt(sum1/d));\n",
    "term2 = -exp(sum2/d);\n",
    "\n",
    "y = term1 + term2 + a + exp(1);\n",
    "\n",
    "end\n"
   ]
  },
  {
   "cell_type": "markdown",
   "metadata": {},
   "source": [
    "https://www.sfu.ca/~ssurjano/branin.html"
   ]
  },
  {
   "cell_type": "code",
   "execution_count": 150,
   "metadata": {},
   "outputs": [
    {
     "name": "stdout",
     "output_type": "stream",
     "text": [
      "Created file '/Users/sergio_arnaud/Documents/ITAM/8vo/applied_analysis/Proyectos/proyecto_1/files/branin.m'.\n"
     ]
    }
   ],
   "source": [
    "%%file files/branin.m\n",
    "\n",
    "function [y] = branin(xx, a=1, b=5.1/(4*pi^2), c=5/(pi), r=6, s=10, t=1/(8*pi))\n",
    "x1 = xx(1);\n",
    "x2 = xx(2);\n",
    "\n",
    "if (nargin < 7)\n",
    "    t = 1 / (8*pi);\n",
    "end\n",
    "if (nargin < 6)\n",
    "    s = 10;\n",
    "end\n",
    "if (nargin < 5)\n",
    "    r = 6;\n",
    "end\n",
    "if (nargin < 4)\n",
    "    c = 5/pi;\n",
    "end\n",
    "if (nargin < 3)\n",
    "    b = 5.1 / (4*pi^2);\n",
    "end\n",
    "if (nargin < 2)\n",
    "    a = 1;\n",
    "end\n",
    "\n",
    "term1 = a * (x2 - b*x1^2 + c*x1 - r)^2;\n",
    "term2 = s*(1-t)*cos(x1);\n",
    "\n",
    "y = term1 + term2 + s;\n",
    "\n",
    "end\n"
   ]
  },
  {
   "cell_type": "markdown",
   "metadata": {},
   "source": [
    "https://www.sfu.ca/~ssurjano/easom.html"
   ]
  },
  {
   "cell_type": "code",
   "execution_count": 151,
   "metadata": {},
   "outputs": [
    {
     "name": "stdout",
     "output_type": "stream",
     "text": [
      "Created file '/Users/sergio_arnaud/Documents/ITAM/8vo/applied_analysis/Proyectos/proyecto_1/files/easom.m'.\n"
     ]
    }
   ],
   "source": [
    "%%file files/easom.m\n",
    "\n",
    "function [y] = easom(xx)\n",
    "\n",
    "x1 = xx(1);\n",
    "x2 = xx(2);\n",
    "\n",
    "fact1 = -cos(x1)*cos(x2);\n",
    "fact2 = exp(-(x1-pi)^2-(x2-pi)^2);\n",
    "\n",
    "y = fact1*fact2;\n",
    "\n",
    "end\n"
   ]
  },
  {
   "cell_type": "code",
   "execution_count": null,
   "metadata": {},
   "outputs": [],
   "source": []
  },
  {
   "cell_type": "code",
   "execution_count": null,
   "metadata": {},
   "outputs": [],
   "source": []
  },
  {
   "cell_type": "code",
   "execution_count": null,
   "metadata": {},
   "outputs": [],
   "source": []
  },
  {
   "cell_type": "code",
   "execution_count": 129,
   "metadata": {},
   "outputs": [
    {
     "name": "stdout",
     "output_type": "stream",
     "text": [
      "x =\n",
      "\n",
      "   9.999976694386812e-01\n",
      "   9.999951296611845e-01\n",
      "\n",
      "ans =    9.808884243547103e-12\n"
     ]
    }
   ],
   "source": [
    "[W,x,iter] = metodoblhibrido(@rosenbrock,[2,2]','newton',false);\n",
    "x\n",
    "rosenbrock(x)"
   ]
  },
  {
   "cell_type": "code",
   "execution_count": 130,
   "metadata": {},
   "outputs": [
    {
     "name": "stdout",
     "output_type": "stream",
     "text": [
      "x =\n",
      "\n",
      "  -1.989141575595430\n",
      "  -1.990607460801713\n",
      "\n",
      "ans =  7.959875669344363\n"
     ]
    }
   ],
   "source": [
    "[W,x,iter] = metodoblhibrido(@rastr,[.4,.3]','max',false);\n",
    "x\n",
    "rastr(x)"
   ]
  },
  {
   "cell_type": "code",
   "execution_count": 131,
   "metadata": {},
   "outputs": [
    {
     "name": "stdout",
     "output_type": "stream",
     "text": [
      "x =\n",
      "\n",
      "   3.070148487026073e+00\n",
      "   1.272486639708042e-03\n",
      "\n",
      "ans =  1.999805000477428\n"
     ]
    }
   ],
   "source": [
    "[W,x,iter] = metodoblhibrido(@griewank,[2,0]','newton',false);\n",
    "x\n",
    "griewank(x)"
   ]
  },
  {
   "cell_type": "code",
   "execution_count": 132,
   "metadata": {},
   "outputs": [
    {
     "name": "stdout",
     "output_type": "stream",
     "text": [
      "x =\n",
      "\n",
      "  -2.257506681591082e-06\n",
      "  -2.803696601529326e-02\n",
      "\n",
      "ans =    1.000968658023713e-01\n"
     ]
    }
   ],
   "source": [
    "[W,x,iter] = metodoblhibrido(@ackley,[0,1.5]','max',false);\n",
    "x\n",
    "ackley(x)"
   ]
  },
  {
   "cell_type": "code",
   "execution_count": 133,
   "metadata": {},
   "outputs": [
    {
     "name": "stdout",
     "output_type": "stream",
     "text": [
      "x =\n",
      "\n",
      "  -3.141545251350651e+00\n",
      "   1.227500114531988e+01\n",
      "\n",
      "ans =    3.978873817572968e-01\n"
     ]
    }
   ],
   "source": [
    "[W,x,iter] = metodoblhibrido(@branin,[-4,13]','newton',false);\n",
    "x\n",
    "branin(x)"
   ]
  },
  {
   "cell_type": "code",
   "execution_count": 134,
   "metadata": {},
   "outputs": [
    {
     "name": "stdout",
     "output_type": "stream",
     "text": [
      "x =\n",
      "\n",
      "   3.141591902310620\n",
      "   3.141591902310620\n",
      "\n",
      "ans =   -9.999999999983067e-01\n"
     ]
    }
   ],
   "source": [
    "[W,x,iter] = metodoblhibrido(@easom,[4.5,4.5]','max',false);\n",
    "x\n",
    "easom(x)"
   ]
  },
  {
   "cell_type": "code",
   "execution_count": 137,
   "metadata": {},
   "outputs": [
    {
     "name": "stdout",
     "output_type": "stream",
     "text": [
      "x =\n",
      "\n",
      "  -25.93306233708681\n",
      "   36.27384942464656\n",
      "\n",
      "ans = -186.7308669891247\n"
     ]
    }
   ],
   "source": [
    "[W,x,iter] = metodoblhibrido(@shubert,[3,1]','max',false);\n",
    "x\n",
    "shubert(x)"
   ]
  },
  {
   "cell_type": "code",
   "execution_count": null,
   "metadata": {},
   "outputs": [],
   "source": []
  },
  {
   "cell_type": "code",
   "execution_count": null,
   "metadata": {},
   "outputs": [],
   "source": []
  },
  {
   "cell_type": "code",
   "execution_count": null,
   "metadata": {},
   "outputs": [],
   "source": []
  }
 ],
 "metadata": {
  "jupytext": {},
  "kernelspec": {
   "display_name": "Octave",
   "language": "octave",
   "name": "octave"
  },
  "language_info": {
   "file_extension": ".m",
   "help_links": [
    {
     "text": "GNU Octave",
     "url": "https://www.gnu.org/software/octave/support.html"
    },
    {
     "text": "Octave Kernel",
     "url": "https://github.com/Calysto/octave_kernel"
    },
    {
     "text": "MetaKernel Magics",
     "url": "https://github.com/calysto/metakernel/blob/master/metakernel/magics/README.md"
    }
   ],
   "mimetype": "text/x-octave",
   "name": "octave",
   "version": "4.4.1"
  }
 },
 "nbformat": 4,
 "nbformat_minor": 2
}
